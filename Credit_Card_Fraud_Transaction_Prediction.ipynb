{
 "cells": [
  {
   "cell_type": "code",
   "execution_count": 1,
   "id": "8d862693",
   "metadata": {
    "execution": {
     "iopub.execute_input": "2024-08-03T12:00:10.035237Z",
     "iopub.status.busy": "2024-08-03T12:00:10.034837Z",
     "iopub.status.idle": "2024-08-03T12:00:14.601490Z",
     "shell.execute_reply": "2024-08-03T12:00:14.600233Z"
    },
    "papermill": {
     "duration": 4.573999,
     "end_time": "2024-08-03T12:00:14.604375",
     "exception": false,
     "start_time": "2024-08-03T12:00:10.030376",
     "status": "completed"
    },
    "tags": []
   },
   "outputs": [],
   "source": [
    "import numpy as np\n",
    "import pandas as pd\n",
    "import matplotlib.pyplot as plt\n",
    "import seaborn as sns\n",
    "import plotly.figure_factory as ff\n",
    "\n",
    "from sklearn.model_selection import train_test_split\n",
    "from sklearn.preprocessing import StandardScaler\n",
    "\n",
    "from sklearn.preprocessing import OneHotEncoder\n",
    "from sklearn.compose import ColumnTransformer\n",
    "from sklearn.pipeline import Pipeline\n",
    "\n",
    "from sklearn.linear_model import LogisticRegression\n",
    "from sklearn.ensemble import RandomForestClassifier\n",
    "from sklearn.metrics import classification_report, accuracy_score ,confusion_matrix, roc_auc_score\n",
    "\n",
    "from xgboost import XGBClassifier"
   ]
  },
  {
   "cell_type": "code",
   "execution_count": 2,
   "id": "14dc8d49",
   "metadata": {
    "execution": {
     "iopub.execute_input": "2024-08-03T12:00:14.610854Z",
     "iopub.status.busy": "2024-08-03T12:00:14.610313Z",
     "iopub.status.idle": "2024-08-03T12:00:27.528530Z",
     "shell.execute_reply": "2024-08-03T12:00:27.527452Z"
    },
    "papermill": {
     "duration": 12.924213,
     "end_time": "2024-08-03T12:00:27.531160",
     "exception": false,
     "start_time": "2024-08-03T12:00:14.606947",
     "status": "completed"
    },
    "tags": []
   },
   "outputs": [],
   "source": [
    "df_transactions = pd.read_csv('/kaggle/input/credit-card-transactions-dataset/credit_card_transactions.csv',parse_dates=['trans_date_trans_time','dob'])"
   ]
  },
  {
   "cell_type": "code",
   "execution_count": 3,
   "id": "da4390af",
   "metadata": {
    "execution": {
     "iopub.execute_input": "2024-08-03T12:00:27.538826Z",
     "iopub.status.busy": "2024-08-03T12:00:27.538403Z",
     "iopub.status.idle": "2024-08-03T12:00:57.928628Z",
     "shell.execute_reply": "2024-08-03T12:00:57.927442Z"
    },
    "papermill": {
     "duration": 30.398354,
     "end_time": "2024-08-03T12:00:57.932186",
     "exception": false,
     "start_time": "2024-08-03T12:00:27.533832",
     "status": "completed"
    },
    "tags": []
   },
   "outputs": [],
   "source": [
    "# Feature Engineering\n",
    "# Extract features from 'trans_date_trans_time'\n",
    "df_transactions['trans_date_trans_time'] = pd.to_datetime(df_transactions['trans_date_trans_time'])\n",
    "df_transactions['transaction_hour'] = df_transactions['trans_date_trans_time'].dt.hour\n",
    "df_transactions['transaction_day'] = df_transactions['trans_date_trans_time'].dt.day\n",
    "df_transactions['transaction_month'] = df_transactions['trans_date_trans_time'].dt.month\n",
    "df_transactions['transaction_day_of_week'] = df_transactions['trans_date_trans_time'].dt.dayofweek\n",
    "\n",
    "#unix_time\n",
    "df_transactions['unix_timestamp'] = pd.to_datetime(df_transactions['unix_time'], unit='s')\n",
    "df_transactions['unix_transaction_hour'] = df_transactions['unix_timestamp'].dt.hour\n",
    "df_transactions['unix_transaction_day'] = df_transactions['unix_timestamp'].dt.day\n",
    "df_transactions['unix_transaction_month'] = df_transactions['unix_timestamp'].dt.month\n",
    "df_transactions['unix_transaction_day_of_week'] = df_transactions['unix_timestamp'].dt.dayofweek\n",
    "\n",
    "# Calculate the mean transaction amount per cardholder\n",
    "df_transactions['mean_amt_per_cardholder'] = df_transactions.groupby('cc_num')['amt'].transform('mean')\n",
    "# Calculate the relative transaction amount\n",
    "df_transactions['amt_relative_to_mean'] = df_transactions['amt'] / df_transactions['mean_amt_per_cardholder']\n",
    "\n",
    "# Identify categorical columns\n",
    "categorical_features = ['merchant', 'category','gender','street','city','state','job']#,'merch_zipcode']\n",
    "\n",
    "# Apply one-hot encoding to categorical columns\n",
    "df_transactions = pd.get_dummies(df_transactions, columns=categorical_features)\n",
    "\n",
    "# Split data into features and target variable\n",
    "X = df_transactions.drop(['merch_zipcode','is_fraud'], axis=1)#'cc_num','merch_zipcode','unix_time'\n",
    "y = df_transactions['is_fraud']\n",
    "\n",
    "# Split data into training and testing sets\n",
    "X_train, X_test, y_train, y_test = train_test_split(X, y, test_size=0.2, random_state=42)\n",
    "\n",
    "# Scale numerical features (example: standardization)\n",
    "#numerical_features = ['amt', 'zip', 'lat', 'long','city_pop','merch_lat','merch_long']#'cc_num',,'unix_time'\n",
    "numerical_features = ['amt', 'zip', 'lat', 'long', 'city_pop', 'merch_lat', 'merch_long', 'transaction_hour', \n",
    "                      'transaction_day', 'transaction_month', 'transaction_day_of_week','unix_transaction_hour',\n",
    "                      'unix_transaction_day','unix_transaction_month','unix_transaction_day_of_week','amt_relative_to_mean'\n",
    "                     ]\n",
    "scaler = StandardScaler()\n",
    "X_train[numerical_features] = scaler.fit_transform(X_train[numerical_features])\n",
    "X_test[numerical_features] = scaler.transform(X_test[numerical_features])\n",
    "\n",
    "# Exclude the 'timestamp' column from features\n",
    "X_train = X_train.drop(['trans_date_trans_time','trans_num'], axis=1)\n",
    "X_test = X_test.drop(['trans_date_trans_time','trans_num'], axis=1)\n",
    "\n",
    "# Separate numeric and categorical columns\n",
    "numeric_features_train = X_train.select_dtypes(include=['float64', 'int64']).columns\n",
    "categorical_features_train = X_train.select_dtypes(include=['object']).columns\n",
    "\n",
    "# Create transformers for numeric and categorical features\n",
    "numeric_transformer = Pipeline(steps=[('numeric', StandardScaler())])  # You can replace StandardScaler with other scalers if needed\n",
    "categorical_transformer = Pipeline(steps=[('onehot', OneHotEncoder(handle_unknown='ignore'))])\n",
    "\n",
    "# Use ColumnTransformer to apply transformers to the respective columns\n",
    "preprocessor = ColumnTransformer(\n",
    "    transformers=[\n",
    "        ('num', numeric_transformer, numeric_features_train),\n",
    "        ('cat', categorical_transformer, categorical_features_train)\n",
    "    ])"
   ]
  },
  {
   "cell_type": "code",
   "execution_count": 4,
   "id": "dd532812",
   "metadata": {
    "execution": {
     "iopub.execute_input": "2024-08-03T12:00:57.940013Z",
     "iopub.status.busy": "2024-08-03T12:00:57.939614Z",
     "iopub.status.idle": "2024-08-03T12:26:16.062553Z",
     "shell.execute_reply": "2024-08-03T12:26:16.060707Z"
    },
    "papermill": {
     "duration": 1518.139014,
     "end_time": "2024-08-03T12:26:16.074826",
     "exception": false,
     "start_time": "2024-08-03T12:00:57.935812",
     "status": "completed"
    },
    "tags": []
   },
   "outputs": [
    {
     "name": "stdout",
     "output_type": "stream",
     "text": [
      "Test Data Accuracy: 1.00\n",
      "\n",
      "Test Data Confusion Matrix:\n",
      " [[257765     50]\n",
      " [   587    933]]\n",
      "\n",
      "Test Data Classification Report:\n",
      "               precision    recall  f1-score   support\n",
      "\n",
      "           0       1.00      1.00      1.00    257815\n",
      "           1       0.95      0.61      0.75      1520\n",
      "\n",
      "    accuracy                           1.00    259335\n",
      "   macro avg       0.97      0.81      0.87    259335\n",
      "weighted avg       1.00      1.00      1.00    259335\n",
      "\n"
     ]
    }
   ],
   "source": [
    "# Append the classifier to the transformers in a pipeline\n",
    "model = Pipeline(steps=[('preprocessor', preprocessor),\n",
    "                        ('classifier', RandomForestClassifier(class_weight='balanced', random_state=42))])\n",
    "\n",
    "# Train the model (if not already trained)\n",
    "model.fit(X_train, y_train)\n",
    "\n",
    "# Make predictions on the test set\n",
    "y_pred_test = model.predict(X_test)\n",
    "\n",
    "# Evaluate the model on the test data\n",
    "accuracy_test = accuracy_score(y_test, y_pred_test)\n",
    "conf_matrix_test = confusion_matrix(y_test, y_pred_test)\n",
    "classification_rep_test = classification_report(y_test, y_pred_test)\n",
    "\n",
    "# Print the evaluation metrics for the test data\n",
    "print(f\"Test Data Accuracy: {accuracy_test:.2f}\")\n",
    "print(\"\\nTest Data Confusion Matrix:\\n\", conf_matrix_test)\n",
    "print(\"\\nTest Data Classification Report:\\n\", classification_rep_test)"
   ]
  },
  {
   "cell_type": "code",
   "execution_count": 5,
   "id": "f7a53444",
   "metadata": {
    "execution": {
     "iopub.execute_input": "2024-08-03T12:26:16.083710Z",
     "iopub.status.busy": "2024-08-03T12:26:16.083108Z",
     "iopub.status.idle": "2024-08-03T12:26:29.840093Z",
     "shell.execute_reply": "2024-08-03T12:26:29.838801Z"
    },
    "papermill": {
     "duration": 13.765262,
     "end_time": "2024-08-03T12:26:29.842851",
     "exception": false,
     "start_time": "2024-08-03T12:26:16.077589",
     "status": "completed"
    },
    "tags": []
   },
   "outputs": [
    {
     "name": "stdout",
     "output_type": "stream",
     "text": [
      "Test Data Accuracy: 0.97\n",
      "\n",
      "Test Data Confusion Matrix:\n",
      " [[249748   8067]\n",
      " [    72   1448]]\n",
      "\n",
      "Test Data Classification Report:\n",
      "               precision    recall  f1-score   support\n",
      "\n",
      "           0       1.00      0.97      0.98    257815\n",
      "           1       0.15      0.95      0.26      1520\n",
      "\n",
      "    accuracy                           0.97    259335\n",
      "   macro avg       0.58      0.96      0.62    259335\n",
      "weighted avg       0.99      0.97      0.98    259335\n",
      "\n",
      "\n",
      "ROC AUC Score: 0.99\n"
     ]
    }
   ],
   "source": [
    "# Create the model with XGBClassifier\n",
    "model = Pipeline(steps=[\n",
    "    ('preprocessor', preprocessor),\n",
    "    ('classifier', XGBClassifier(scale_pos_weight=len(y_train[y_train==0]) / len(y_train[y_train==1]), random_state=42))\n",
    "])\n",
    "\n",
    "# Train the model\n",
    "model.fit(X_train, y_train)\n",
    "\n",
    "# Make predictions on the test set\n",
    "y_pred_test = model.predict(X_test)\n",
    "\n",
    "# Evaluate the model on the test data\n",
    "accuracy_test = accuracy_score(y_test, y_pred_test)\n",
    "conf_matrix_test = confusion_matrix(y_test, y_pred_test)\n",
    "classification_rep_test = classification_report(y_test, y_pred_test)\n",
    "roc_auc = roc_auc_score(y_test, model.predict_proba(X_test)[:, 1])\n",
    "\n",
    "# Print the evaluation metrics for the test data\n",
    "print(f\"Test Data Accuracy: {accuracy_test:.2f}\")\n",
    "print(\"\\nTest Data Confusion Matrix:\\n\", conf_matrix_test)\n",
    "print(\"\\nTest Data Classification Report:\\n\", classification_rep_test)\n",
    "print(f\"\\nROC AUC Score: {roc_auc:.2f}\")"
   ]
  },
  {
   "cell_type": "code",
   "execution_count": null,
   "id": "a37fd331",
   "metadata": {
    "papermill": {
     "duration": 0.002504,
     "end_time": "2024-08-03T12:26:29.848355",
     "exception": false,
     "start_time": "2024-08-03T12:26:29.845851",
     "status": "completed"
    },
    "tags": []
   },
   "outputs": [],
   "source": []
  }
 ],
 "metadata": {
  "kaggle": {
   "accelerator": "none",
   "dataSources": [
    {
     "datasetId": 5430856,
     "sourceId": 9013505,
     "sourceType": "datasetVersion"
    }
   ],
   "isGpuEnabled": false,
   "isInternetEnabled": true,
   "language": "python",
   "sourceType": "notebook"
  },
  "kernelspec": {
   "display_name": "Python 3 (ipykernel)",
   "language": "python",
   "name": "python3"
  },
  "language_info": {
   "codemirror_mode": {
    "name": "ipython",
    "version": 3
   },
   "file_extension": ".py",
   "mimetype": "text/x-python",
   "name": "python",
   "nbconvert_exporter": "python",
   "pygments_lexer": "ipython3",
   "version": "3.10.13"
  },
  "papermill": {
   "default_parameters": {},
   "duration": 1584.199506,
   "end_time": "2024-08-03T12:26:31.380835",
   "environment_variables": {},
   "exception": null,
   "input_path": "__notebook__.ipynb",
   "output_path": "__notebook__.ipynb",
   "parameters": {},
   "start_time": "2024-08-03T12:00:07.181329",
   "version": "2.5.0"
  }
 },
 "nbformat": 4,
 "nbformat_minor": 5
}
